{
  "nbformat": 4,
  "nbformat_minor": 0,
  "metadata": {
    "colab": {
      "provenance": []
    },
    "kernelspec": {
      "name": "python3",
      "display_name": "Python 3"
    },
    "language_info": {
      "name": "python"
    }
  },
  "cells": [
    {
      "cell_type": "markdown",
      "source": [
        "# BINARY CLASSIFICATION NEURAL NETWORK \n",
        "\n",
        "- THIS NEURAL NETWORK WAS CREATED BY OCTAVIO PAVÓN AS TRAINING TO ENTER MACHINE LEARNING FIELD."
      ],
      "metadata": {
        "id": "JNOmXY7jWuZR"
      }
    },
    {
      "cell_type": "code",
      "execution_count": 3,
      "metadata": {
        "id": "PqqRea9nxY50"
      },
      "outputs": [],
      "source": [
        "# NEURAL NETWORK TO DETECT IF AN IMAGE IS A CAT, DOG.\n",
        "import tensorflow as tf"
      ]
    },
    {
      "cell_type": "code",
      "source": [
        "# DATASETS IS A PYTHON LIBRARY FOR HAVING A LARGE OPTION OF DATASETS BY HUGGINFACE.\n",
        "# I WILL USE CATS_VS_DOGS DATASETS IMAGE PROVIDED BY HUGGINFACE, ALL CREDITS DESERVED TO THEM!\n",
        "# GITHUB: https://github.com/huggingface/datasets\n",
        "from datasets import load_dataset\n",
        "\n",
        "dataset = load_dataset(\"cats_vs_dogs\")\n"
      ],
      "metadata": {
        "id": "n8RZFOpJyoP3"
      },
      "execution_count": null,
      "outputs": []
    },
    {
      "cell_type": "code",
      "source": [
        "# Show a few examples\n",
        "\n",
        "subset = dataset[\"train\"].select(range(5))\n",
        "\n",
        "from PIL import Image\n",
        "dataset_resized = []\n",
        "# Run through all examples\n",
        "for i in range(dataset['train'].num_rows):\n",
        "    # Resize images into 64x64 pixels for next convolutional layers\n",
        "    dataset_resized.append((dataset['train'][i]['image'].resize((64,64)), dataset['train'][i]['labels']))\n",
        "  \n",
        "for i in range(5):\n",
        "  if (dataset_resized[i][0].size) != (64,64):\n",
        "    raise Exception(\"An error was ocurred resizing images.\")"
      ],
      "metadata": {
        "id": "PvxfAA0nzWfv"
      },
      "execution_count": 48,
      "outputs": []
    },
    {
      "cell_type": "code",
      "source": [
        "#turning images into numpy array (matrix of pixels)\n",
        "# also adding the label (result if it's a cat or a dog)\n",
        "import numpy as np\n",
        "\n",
        "data_x = []\n",
        "data_y = []\n",
        "for image in dataset_resized:\n",
        "    grayscale_image = image[0].convert(\"L\")\n",
        "    grayscale_image = np.array(grayscale_image)\n",
        "    reshaped_image = np.expand_dims(grayscale_image, axis=-1)  # Add a channel dimension\n",
        "    data_x.append(reshaped_image)\n",
        "    data_y.append(image[1])\n",
        "\n",
        "data_x = np.array(data_x)\n",
        "data_y = np.array(data_y)"
      ],
      "metadata": {
        "id": "cnBRxz9t0Rja"
      },
      "execution_count": 148,
      "outputs": []
    },
    {
      "cell_type": "code",
      "source": [
        "# creating neural network architecture\n",
        "from tensorflow.keras import layers, Sequential\n",
        "\n",
        "# Conv2d Convolutional layer\n",
        "# MaxPooling2D Layer for grab the most important pixel in 2x2 region\n",
        "# Flatten Layer for turn multidimensional into 1d-dimensional\n",
        "# Dense layer for fully connected all outputs of flatten into each neuron in dense layer\n",
        "# Last layer with one neuron with sigmoid activation , 0 if it's cat, 1 if it's dog\n",
        "conv_neural_network = Sequential([\n",
        "    layers.Conv2D(filters=64, kernel_size=(3,3), activation=\"relu\", input_shape=(64,64,1)),\n",
        "    layers.MaxPooling2D((2,2)),\n",
        "    layers.Conv2D(filters=64, kernel_size=(3,3), activation=\"relu\"),\n",
        "    layers.MaxPooling2D((2,2)),\n",
        "    layers.Flatten(),\n",
        "    layers.Dense(units=64, activation='relu'),\n",
        "    layers.Dense(units=1, activation='sigmoid')\n",
        "])\n",
        "\n",
        "conv_neural_network.compile(optimizer='adam', loss='binary_crossentropy')"
      ],
      "metadata": {
        "id": "BFwgChCe9XJq"
      },
      "execution_count": 150,
      "outputs": []
    },
    {
      "cell_type": "code",
      "source": [
        "conv_neural_network.fit(data_x, data_y, epochs=10, batch_size=32)\n"
      ],
      "metadata": {
        "colab": {
          "base_uri": "https://localhost:8080/"
        },
        "id": "ITlFam3YBJb6",
        "outputId": "6e214d17-438d-4820-e34d-380abf308545"
      },
      "execution_count": 151,
      "outputs": [
        {
          "output_type": "stream",
          "name": "stdout",
          "text": [
            "Epoch 1/10\n",
            "732/732 [==============================] - 144s 196ms/step - loss: 1.1058\n",
            "Epoch 2/10\n",
            "732/732 [==============================] - 140s 191ms/step - loss: 0.6578\n",
            "Epoch 3/10\n",
            "732/732 [==============================] - 138s 189ms/step - loss: 0.6226\n",
            "Epoch 4/10\n",
            "732/732 [==============================] - 139s 190ms/step - loss: 0.5835\n",
            "Epoch 5/10\n",
            "732/732 [==============================] - 138s 188ms/step - loss: 0.5325\n",
            "Epoch 6/10\n",
            "732/732 [==============================] - 138s 189ms/step - loss: 0.4675\n",
            "Epoch 7/10\n",
            "732/732 [==============================] - 136s 186ms/step - loss: 0.3933\n",
            "Epoch 8/10\n",
            "732/732 [==============================] - 139s 190ms/step - loss: 0.3153\n",
            "Epoch 9/10\n",
            "732/732 [==============================] - 137s 188ms/step - loss: 0.2307\n",
            "Epoch 10/10\n",
            "732/732 [==============================] - 136s 186ms/step - loss: 0.1733\n"
          ]
        },
        {
          "output_type": "execute_result",
          "data": {
            "text/plain": [
              "<keras.callbacks.History at 0x7fa19466d6f0>"
            ]
          },
          "metadata": {},
          "execution_count": 151
        }
      ]
    },
    {
      "cell_type": "code",
      "source": [
        "def transform_image(image_path):\n",
        "  image = Image.open(image_path)\n",
        "  resized_image = image.resize((64, 64))\n",
        "  grayscale_image = resized_image.convert(\"L\")\n",
        "  expanded_image = np.expand_dims(grayscale_image, axis=0)\n",
        "  return expanded_image\n",
        "\n",
        "gato_de_nico = transform_image(\"gato_de_nico.jpeg\")\n",
        "\n",
        "predictions = []\n",
        "predictions.append(conv_neural_network.predict(gato_de_nico))\n",
        "\n",
        "for animal in predictions:\n",
        "  if animal < 0.5:\n",
        "    print(\"IS A CAT!\")\n",
        "  else:\n",
        "    print(\"IS A DOG!\")\n",
        "\n",
        "\n",
        "\n"
      ],
      "metadata": {
        "colab": {
          "base_uri": "https://localhost:8080/"
        },
        "id": "ODLIbx9QO_vG",
        "outputId": "0e924e85-0c9b-4f48-db14-4b72091e8090"
      },
      "execution_count": 174,
      "outputs": [
        {
          "output_type": "stream",
          "name": "stdout",
          "text": [
            "1/1 [==============================] - 0s 23ms/step\n",
            "IS A CAT!\n"
          ]
        }
      ]
    }
  ]
}