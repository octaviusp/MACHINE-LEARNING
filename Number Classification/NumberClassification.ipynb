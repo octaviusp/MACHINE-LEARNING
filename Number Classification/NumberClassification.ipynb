{
  "nbformat": 4,
  "nbformat_minor": 0,
  "metadata": {
    "colab": {
      "provenance": [],
      "gpuType": "T4"
    },
    "kernelspec": {
      "name": "python3",
      "display_name": "Python 3"
    },
    "language_info": {
      "name": "python"
    },
    "accelerator": "GPU"
  },
  "cells": [
    {
      "cell_type": "code",
      "execution_count": 1,
      "metadata": {
        "id": "mJu1pK7hQT-4"
      },
      "outputs": [],
      "source": [
        "# NEURAL NETWORK TO CLASSIFY BETWEEN 10 SYMBOLS, [0,1,2,3,4,5,6,7,8,9].\n",
        "# IT WILL USE CONVOLUTIONAL LAYERS.\n",
        "import tensorflow as tf\n",
        "from tensorflow.keras.models import Sequential\n",
        "from tensorflow.keras.layers import Dense, Conv2D, Flatten, MaxPooling2D\n",
        "import numpy as np\n"
      ]
    },
    {
      "cell_type": "code",
      "source": [
        "# loading datasets and importing MNIST (number datasets)\n",
        "from datasets import load_dataset\n",
        "\n",
        "dataset = load_dataset(\"mnist\")"
      ],
      "metadata": {
        "id": "omeVgpjAQl7q"
      },
      "execution_count": null,
      "outputs": []
    },
    {
      "cell_type": "code",
      "source": [
        "# in most cases we need to normalize images, same size, same channel colors, but in this case the dataset of mnist is already normalized."
      ],
      "metadata": {
        "id": "lKxDnhb2Q_U6"
      },
      "execution_count": null,
      "outputs": []
    },
    {
      "cell_type": "code",
      "source": [
        "# separating the train and test dataset \n",
        "x_train, y_train = dataset['train']['image'], dataset['train']['label']\n",
        "x_test, y_test = dataset['test']['image'], dataset['test']['label']\n",
        "test_images = x_test\n",
        "\n",
        "x_train = np.array([np.array(image) for image in x_train])\n",
        "y_train = np.array([np.array(number) for number in y_train])\n",
        "x_test = np.array([np.array(image) for image in x_test])\n",
        "y_test = np.array([np.array(number) for number in y_test])"
      ],
      "metadata": {
        "id": "PU8eVwB7QrdQ"
      },
      "execution_count": 88,
      "outputs": []
    },
    {
      "cell_type": "code",
      "source": [
        "# saving the image shape to the future neural network architecture building\n",
        "# more precisely the convolutional layer inputshape\n",
        "# (28 pixels, 28 pixels, 1) - channel grayscale\n",
        "image_shape = (x_train[0].shape[0], x_train[0].shape[1], 1)\n",
        "print(image_shape)\n",
        "\n",
        "x_test = x_test.reshape(-1, 28,28, 1)"
      ],
      "metadata": {
        "colab": {
          "base_uri": "https://localhost:8080/"
        },
        "id": "xrx6vZd7TszL",
        "outputId": "ed7fd174-1d81-4c90-833e-5005edfcefb7"
      },
      "execution_count": 9,
      "outputs": [
        {
          "output_type": "stream",
          "name": "stdout",
          "text": [
            "(28, 28, 1)\n"
          ]
        }
      ]
    },
    {
      "cell_type": "code",
      "source": [
        "# NEURAL NETWORK ARCHITECTURE\n",
        "# Dense, Conv2D, Flatten, MaxPooling2D\n",
        "filters = [10]\n",
        "neural_networks = []\n",
        "losses = []\n",
        "for filter_q in filters:\n",
        "\n",
        "  neural_network = Sequential([\n",
        "      Conv2D(filters=64, kernel_size=(1, 1), activation=\"relu\", input_shape=image_shape),\n",
        "      MaxPooling2D((1, 1)),\n",
        "      Conv2D(filters=64, kernel_size=(1, 1), activation=\"relu\"),\n",
        "      MaxPooling2D((1, 1)),\n",
        "      Conv2D(filters=filter_q, kernel_size=(1, 1), activation=\"relu\"),\n",
        "      MaxPooling2D((1, 1)),\n",
        "      Flatten(),\n",
        "      Dense(units=64, activation=\"relu\"),\n",
        "      Dense(units=10, activation=\"softmax\"),\n",
        "  ])\n",
        "\n",
        "  neural_network.compile(optimizer='adam', loss='sparse_categorical_crossentropy', metrics=['accuracy'])\n",
        "  history = neural_network.fit(x_train, y_train, epochs=5, batch_size=32)\n",
        "  neural_networks.append(neural_network)\n",
        "\n",
        "  # Save the loss values\n",
        "  loss_values = history.history['loss']\n",
        "  losses.append(loss_values)\n",
        "\n",
        "for i, loss in enumerate(losses):\n",
        "    print(f\"Loss for neural network {i+1}: {loss}\")\n"
      ],
      "metadata": {
        "colab": {
          "base_uri": "https://localhost:8080/"
        },
        "id": "rBK4KbpaT1DP",
        "outputId": "013b2e20-740a-4355-a7d2-82e7df746751"
      },
      "execution_count": 68,
      "outputs": [
        {
          "output_type": "stream",
          "name": "stdout",
          "text": [
            "Epoch 1/5\n",
            "1875/1875 [==============================] - 10s 4ms/step - loss: 0.3330 - accuracy: 0.9133\n",
            "Epoch 2/5\n",
            "1875/1875 [==============================] - 7s 4ms/step - loss: 0.1576 - accuracy: 0.9544\n",
            "Epoch 3/5\n",
            "1875/1875 [==============================] - 8s 4ms/step - loss: 0.1253 - accuracy: 0.9638\n",
            "Epoch 4/5\n",
            "1875/1875 [==============================] - 9s 5ms/step - loss: 0.1036 - accuracy: 0.9691\n",
            "Epoch 5/5\n",
            "1875/1875 [==============================] - 8s 4ms/step - loss: 0.0875 - accuracy: 0.9728\n",
            "Loss for neural network 1: [0.3330232501029968, 0.1575608253479004, 0.12525761127471924, 0.1036253347992897, 0.08748780936002731]\n"
          ]
        }
      ]
    },
    {
      "cell_type": "code",
      "source": [
        "# plot the filter_q vs loss\n",
        "import matplotlib.pyplot as plt\n",
        "\n",
        "plt.plot(filters,[x[-1] for x in losses])\n",
        "\n",
        "# Add labels and title\n",
        "plt.xlabel('FILTER QUANTITY')\n",
        "plt.ylabel('LOSS')\n",
        "plt.title('filter vs loss')\n",
        "\n",
        "# Show the plot\n",
        "plt.show()\n"
      ],
      "metadata": {
        "colab": {
          "base_uri": "https://localhost:8080/",
          "height": 472
        },
        "id": "NBH2qcz6WZh2",
        "outputId": "4aefa6b5-a74a-4ab7-e668-fc46dca00dd0"
      },
      "execution_count": 55,
      "outputs": [
        {
          "output_type": "display_data",
          "data": {
            "text/plain": [
              "<Figure size 640x480 with 1 Axes>"
            ],
            "image/png": "[encoded data removed]"
          },
          "metadata": {}
        }
      ]
    },
    {
      "cell_type": "code",
      "source": [
        "# we could assert that the best filter quantity for the third conv layer is == 10.\n",
        "# so the best neural network was:\n",
        "# Print the saved loss values\n",
        "bnn_index = 0\n",
        "minimal_loss = 9999\n",
        "for index, loss in enumerate(losses):\n",
        "  if loss[-1] < minimal_loss:\n",
        "    minimal_loss = loss[-1]\n",
        "    bnn_index = index\n",
        "\n",
        "print(\"Best neural network in index: \", bnn_index)\n",
        "\n",
        "bnn = neural_networks[bnn_index]\n",
        "bnn.summary()"
      ],
      "metadata": {
        "colab": {
          "base_uri": "https://localhost:8080/"
        },
        "id": "oLIPGXwCYJO-",
        "outputId": "d251f85c-6dce-4c66-b5e4-b76109b7a9a5"
      },
      "execution_count": 69,
      "outputs": [
        {
          "output_type": "stream",
          "name": "stdout",
          "text": [
            "Best neural network in index:  0\n",
            "Model: \"sequential_65\"\n",
            "_________________________________________________________________\n",
            " Layer (type)                Output Shape              Param #   \n",
            "=================================================================\n",
            " conv2d_192 (Conv2D)         (None, 28, 28, 64)        128       \n",
            "                                                                 \n",
            " max_pooling2d_192 (MaxPooli  (None, 28, 28, 64)       0         \n",
            " ng2D)                                                           \n",
            "                                                                 \n",
            " conv2d_193 (Conv2D)         (None, 28, 28, 64)        4160      \n",
            "                                                                 \n",
            " max_pooling2d_193 (MaxPooli  (None, 28, 28, 64)       0         \n",
            " ng2D)                                                           \n",
            "                                                                 \n",
            " conv2d_194 (Conv2D)         (None, 28, 28, 10)        650       \n",
            "                                                                 \n",
            " max_pooling2d_194 (MaxPooli  (None, 28, 28, 10)       0         \n",
            " ng2D)                                                           \n",
            "                                                                 \n",
            " flatten_65 (Flatten)        (None, 7840)              0         \n",
            "                                                                 \n",
            " dense_130 (Dense)           (None, 64)                501824    \n",
            "                                                                 \n",
            " dense_131 (Dense)           (None, 10)                650       \n",
            "                                                                 \n",
            "=================================================================\n",
            "Total params: 507,412\n",
            "Trainable params: 507,412\n",
            "Non-trainable params: 0\n",
            "_________________________________________________________________\n"
          ]
        }
      ]
    },
    {
      "cell_type": "code",
      "source": [
        "predictions = bnn.predict(x_test)\n",
        "# \n",
        "\n",
        "for i, p in enumerate(predictions):\n",
        "  max_pred = list(p).index(max(p))\n",
        "  test_images[i].show()\n",
        "  print(f\"P:{max_pred} - O:{y_test[i]}\")\n",
        "  # limited to print out 10 predictions\n",
        "  # output: P is the predicted by nn, O is the original value before prediction,\n",
        "  # if P == O -> NN works well!\n",
        "  if i == 10:\n",
        "    break\n",
        "  "
      ],
      "metadata": {
        "colab": {
          "base_uri": "https://localhost:8080/",
          "height": 533
        },
        "id": "ZEpAOM88klLe",
        "outputId": "d2e24c1c-493d-49a2-b855-5dfcff17eacc"
      },
      "execution_count": 91,
      "outputs": [
        {
          "output_type": "stream",
          "name": "stdout",
          "text": [
            "313/313 [==============================] - 1s 2ms/step\n"
          ]
        },
        {
          "output_type": "display_data",
          "data": {
            "text/plain": [
              "<PIL.PngImagePlugin.PngImageFile image mode=L size=28x28 at 0x7FDF4AB1DD50>"
            ],
            "image/png": "[encoded data removed]"
          },
          "metadata": {}
        },
        {
          "output_type": "stream",
          "name": "stdout",
          "text": [
            "P:7 - O:7\n"
          ]
        },
        {
          "output_type": "display_data",
          "data": {
            "text/plain": [
              "<PIL.PngImagePlugin.PngImageFile image mode=L size=28x28 at 0x7FDF4AB1DD20>"
            ],
            "image/png": "[encoded data removed]"
          },
          "metadata": {}
        },
        {
          "output_type": "stream",
          "name": "stdout",
          "text": [
            "P:2 - O:2\n"
          ]
        },
        {
          "output_type": "display_data",
          "data": {
            "text/plain": [
              "<PIL.PngImagePlugin.PngImageFile image mode=L size=28x28 at 0x7FDF4AB1DD80>"
            ],
            "image/png": "[encoded data removed]"
          },
          "metadata": {}
        },
        {
          "output_type": "stream",
          "name": "stdout",
          "text": [
            "P:1 - O:1\n"
          ]
        },
        {
          "output_type": "display_data",
          "data": {
            "text/plain": [
              "<PIL.PngImagePlugin.PngImageFile image mode=L size=28x28 at 0x7FDF4AB1C070>"
            ],
            "image/png": "[encoded data removed]"
          },
          "metadata": {}
        },
        {
          "output_type": "stream",
          "name": "stdout",
          "text": [
            "P:0 - O:0\n"
          ]
        },
        {
          "output_type": "display_data",
          "data": {
            "text/plain": [
              "<PIL.PngImagePlugin.PngImageFile image mode=L size=28x28 at 0x7FDF4AB1DDE0>"
            ],
            "image/png": "[encoded data removed]"
          },
          "metadata": {}
        },
        {
          "output_type": "stream",
          "name": "stdout",
          "text": [
            "P:4 - O:4\n"
          ]
        },
        {
          "output_type": "display_data",
          "data": {
            "text/plain": [
              "<PIL.PngImagePlugin.PngImageFile image mode=L size=28x28 at 0x7FDF4AB1DE10>"
            ],
            "image/png": "[encoded data removed]"
          },
          "metadata": {}
        },
        {
          "output_type": "stream",
          "name": "stdout",
          "text": [
            "P:1 - O:1\n"
          ]
        },
        {
          "output_type": "display_data",
          "data": {
            "text/plain": [
              "<PIL.PngImagePlugin.PngImageFile image mode=L size=28x28 at 0x7FDF4AB1DE40>"
            ],
            "image/png": "[encoded data removed]"
          },
          "metadata": {}
        },
        {
          "output_type": "stream",
          "name": "stdout",
          "text": [
            "P:4 - O:4\n"
          ]
        },
        {
          "output_type": "display_data",
          "data": {
            "text/plain": [
              "<PIL.PngImagePlugin.PngImageFile image mode=L size=28x28 at 0x7FDF4AB1DE70>"
            ],
            "image/png": "[encoded data removed]"
          },
          "metadata": {}
        },
        {
          "output_type": "stream",
          "name": "stdout",
          "text": [
            "P:9 - O:9\n"
          ]
        },
        {
          "output_type": "display_data",
          "data": {
            "text/plain": [
              "<PIL.PngImagePlugin.PngImageFile image mode=L size=28x28 at 0x7FDF4AB1DEA0>"
            ],
            "image/png": "[encoded data removed]"
          },
          "metadata": {}
        },
        {
          "output_type": "stream",
          "name": "stdout",
          "text": [
            "P:5 - O:5\n"
          ]
        },
        {
          "output_type": "display_data",
          "data": {
            "text/plain": [
              "<PIL.PngImagePlugin.PngImageFile image mode=L size=28x28 at 0x7FDF4AB1DED0>"
            ],
            "image/png": "[encoded data removed]"
          },
          "metadata": {}
        },
        {
          "output_type": "stream",
          "name": "stdout",
          "text": [
            "P:9 - O:9\n"
          ]
        },
        {
          "output_type": "display_data",
          "data": {
            "text/plain": [
              "<PIL.PngImagePlugin.PngImageFile image mode=L size=28x28 at 0x7FDF4AB1DF00>"
            ],
            "image/png": "[encoded data removed]"
          },
          "metadata": {}
        },
        {
          "output_type": "stream",
          "name": "stdout",
          "text": [
            "P:0 - O:0\n"
          ]
        }
      ]
    },
    {
      "cell_type": "code",
      "source": [],
      "metadata": {
        "id": "6a6LuehCp5qZ"
      },
      "execution_count": null,
      "outputs": []
    }
  ]
}