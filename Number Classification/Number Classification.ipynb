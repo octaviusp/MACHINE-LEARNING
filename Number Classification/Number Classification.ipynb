{
  "nbformat": 4,
  "nbformat_minor": 0,
  "metadata": {
    "colab": {
      "provenance": [],
      "gpuType": "T4"
    },
    "kernelspec": {
      "name": "python3",
      "display_name": "Python 3"
    },
    "language_info": {
      "name": "python"
    },
    "accelerator": "GPU"
  },
  "cells": [
    {
      "cell_type": "markdown",
      "source": [
        "# Number Classification\n",
        "- Created by Octavio, this is my process of my machine learner journey."
      ],
      "metadata": {
        "id": "ae44oQq-IwGT"
      }
    },
    {
      "cell_type": "code",
      "execution_count": 1,
      "metadata": {
        "id": "mJu1pK7hQT-4"
      },
      "outputs": [],
      "source": [
        "# NEURAL NETWORK TO CLASSIFY BETWEEN 10 SYMBOLS, [0,1,2,3,4,5,6,7,8,9].\n",
        "# IT WILL USE CONVOLUTIONAL LAYERS.\n",
        "import tensorflow as tf\n",
        "from tensorflow.keras.models import Sequential\n",
        "from tensorflow.keras.layers import Dense, Conv2D, Flatten, MaxPooling2D\n",
        "import numpy as np\n"
      ]
    },
    {
      "cell_type": "code",
      "source": [
        "# loading datasets and importing MNIST (number datasets)\n",
        "!pip install datasets\n",
        "from datasets import load_dataset\n",
        "\n",
        "dataset = load_dataset(\"mnist\")"
      ],
      "metadata": {
        "id": "omeVgpjAQl7q"
      },
      "execution_count": null,
      "outputs": []
    },
    {
      "cell_type": "code",
      "source": [
        "# in most cases we need to normalize images, same size, same channel colors, but in this case the dataset of mnist is already normalized."
      ],
      "metadata": {
        "id": "lKxDnhb2Q_U6"
      },
      "execution_count": null,
      "outputs": []
    },
    {
      "cell_type": "code",
      "source": [
        "# separating the train and test dataset \n",
        "x_train, y_train = dataset['train']['image'], dataset['train']['label']\n",
        "x_test, y_test = dataset['test']['image'], dataset['test']['label']\n",
        "test_images = x_test\n",
        "\n",
        "x_train = np.array([np.array(image) for image in x_train])\n",
        "y_train = np.array([np.array(number) for number in y_train])\n",
        "x_test = np.array([np.array(image) for image in x_test])\n",
        "y_test = np.array([np.array(number) for number in y_test])"
      ],
      "metadata": {
        "id": "PU8eVwB7QrdQ"
      },
      "execution_count": 5,
      "outputs": []
    },
    {
      "cell_type": "code",
      "source": [
        "# saving the image shape to the future neural network architecture building\n",
        "# more precisely the convolutional layer inputshape\n",
        "# (28 pixels, 28 pixels, 1) - channel grayscale\n",
        "image_shape = (x_train[0].shape[0], x_train[0].shape[1], 1)\n",
        "print(image_shape)\n",
        "\n",
        "x_test = x_test.reshape(-1, 28,28, 1)"
      ],
      "metadata": {
        "colab": {
          "base_uri": "https://localhost:8080/"
        },
        "id": "xrx6vZd7TszL",
        "outputId": "921e4951-40ef-4f0d-da74-2f1ccd565298"
      },
      "execution_count": 6,
      "outputs": [
        {
          "output_type": "stream",
          "name": "stdout",
          "text": [
            "(28, 28, 1)\n"
          ]
        }
      ]
    },
    {
      "cell_type": "code",
      "source": [
        "# NEURAL NETWORK ARCHITECTURE\n",
        "# Dense, Conv2D, Flatten, MaxPooling2D\n",
        "filters = [8,9,10,11,12]\n",
        "neural_networks = []\n",
        "losses = []\n",
        "for filter_q in filters:\n",
        "\n",
        "  neural_network = Sequential([\n",
        "      Conv2D(filters=64, kernel_size=(1, 1), activation=\"relu\", input_shape=image_shape),\n",
        "      MaxPooling2D((1, 1)),\n",
        "      Conv2D(filters=64, kernel_size=(1, 1), activation=\"relu\"),\n",
        "      MaxPooling2D((1, 1)),\n",
        "      Conv2D(filters=filter_q, kernel_size=(1, 1), activation=\"relu\"),\n",
        "      MaxPooling2D((1, 1)),\n",
        "      Flatten(),\n",
        "      Dense(units=64, activation=\"relu\"),\n",
        "      Dense(units=10, activation=\"softmax\"),\n",
        "  ])\n",
        "\n",
        "  neural_network.compile(optimizer='adam', loss='sparse_categorical_crossentropy', metrics=['accuracy'])\n",
        "  history = neural_network.fit(x_train, y_train, epochs=3, batch_size=32)\n",
        "  neural_networks.append(neural_network)\n",
        "\n",
        "  # Save the loss values\n",
        "  loss_values = history.history['loss']\n",
        "  losses.append(loss_values)\n",
        "\n",
        "for i, loss in enumerate(losses):\n",
        "    print(f\"Loss for neural network {i+1}: {loss}\")\n"
      ],
      "metadata": {
        "colab": {
          "base_uri": "https://localhost:8080/"
        },
        "id": "rBK4KbpaT1DP",
        "outputId": "f52e47c3-45b6-4f59-e45c-4780200d77f3"
      },
      "execution_count": 9,
      "outputs": [
        {
          "output_type": "stream",
          "name": "stdout",
          "text": [
            "Epoch 1/3\n",
            "1875/1875 [==============================] - 9s 4ms/step - loss: 2.3140 - accuracy: 0.1127\n",
            "Epoch 2/3\n",
            "1875/1875 [==============================] - 7s 4ms/step - loss: 2.3014 - accuracy: 0.1124\n",
            "Epoch 3/3\n",
            "1875/1875 [==============================] - 8s 4ms/step - loss: 2.3013 - accuracy: 0.1124\n",
            "Epoch 1/3\n",
            "1875/1875 [==============================] - 9s 4ms/step - loss: 0.2781 - accuracy: 0.9202\n",
            "Epoch 2/3\n",
            "1875/1875 [==============================] - 7s 4ms/step - loss: 0.1458 - accuracy: 0.9568\n",
            "Epoch 3/3\n",
            "1875/1875 [==============================] - 7s 4ms/step - loss: 0.1152 - accuracy: 0.9656\n",
            "Epoch 1/3\n",
            "1875/1875 [==============================] - 9s 4ms/step - loss: 0.2935 - accuracy: 0.9170\n",
            "Epoch 2/3\n",
            "1875/1875 [==============================] - 7s 4ms/step - loss: 0.1538 - accuracy: 0.9555\n",
            "Epoch 3/3\n",
            "1875/1875 [==============================] - 7s 4ms/step - loss: 0.1141 - accuracy: 0.9654\n",
            "Epoch 1/3\n",
            "1875/1875 [==============================] - 9s 4ms/step - loss: 0.2977 - accuracy: 0.9217\n",
            "Epoch 2/3\n",
            "1875/1875 [==============================] - 7s 4ms/step - loss: 0.1501 - accuracy: 0.9557\n",
            "Epoch 3/3\n",
            "1875/1875 [==============================] - 7s 4ms/step - loss: 0.1221 - accuracy: 0.9634\n",
            "Epoch 1/3\n",
            "1875/1875 [==============================] - 9s 4ms/step - loss: 0.2837 - accuracy: 0.9209\n",
            "Epoch 2/3\n",
            "1875/1875 [==============================] - 7s 4ms/step - loss: 0.1467 - accuracy: 0.9571\n",
            "Epoch 3/3\n",
            "1875/1875 [==============================] - 7s 4ms/step - loss: 0.1090 - accuracy: 0.9674\n",
            "Loss for neural network 1: [2.3139848709106445, 2.3013973236083984, 2.301323413848877]\n",
            "Loss for neural network 2: [0.2781431972980499, 0.14576314389705658, 0.11519404500722885]\n",
            "Loss for neural network 3: [0.293474406003952, 0.15375226736068726, 0.11408627033233643]\n",
            "Loss for neural network 4: [0.2977226674556732, 0.15013860166072845, 0.12213134765625]\n",
            "Loss for neural network 5: [0.28369808197021484, 0.14669786393642426, 0.10895217210054398]\n"
          ]
        }
      ]
    },
    {
      "cell_type": "code",
      "source": [
        "# plot the filter_q vs loss\n",
        "import matplotlib.pyplot as plt\n",
        "\n",
        "plt.plot(filters,[x[-1] for x in losses])\n",
        "plt.ylim(0, 0.4)\n",
        "\n",
        "# Add labels and title\n",
        "plt.xlabel('FILTER QUANTITY')\n",
        "plt.ylabel('LOSS')\n",
        "plt.title('filter vs loss')\n",
        "\n",
        "# Show the plot\n",
        "plt.show()\n"
      ],
      "metadata": {
        "colab": {
          "base_uri": "https://localhost:8080/",
          "height": 472
        },
        "id": "NBH2qcz6WZh2",
        "outputId": "f7bba6d3-8052-4a41-a7e5-8d9f605afa50"
      },
      "execution_count": 18,
      "outputs": [
        {
          "output_type": "display_data",
          "data": {
            "text/plain": [
              "<Figure size 640x480 with 1 Axes>"
            ],
            "image/png": "[encoded data removed]"
          },
          "metadata": {}
        }
      ]
    },
    {
      "cell_type": "code",
      "source": [
        "# we could assert that the best filter quantity for the third conv layer is == 10.\n",
        "# so the best neural network was:\n",
        "# Print the saved loss values\n",
        "bnn_index = 0\n",
        "minimal_loss = 9999\n",
        "for index, loss in enumerate(losses):\n",
        "  if loss[-1] < minimal_loss:\n",
        "    minimal_loss = loss[-1]\n",
        "    bnn_index = index\n",
        "\n",
        "print(\"Best neural network in index: \", bnn_index)\n",
        "\n",
        "bnn = neural_networks[bnn_index]\n",
        "bnn.summary()"
      ],
      "metadata": {
        "colab": {
          "base_uri": "https://localhost:8080/"
        },
        "id": "oLIPGXwCYJO-",
        "outputId": "11ed58d7-1cd6-4816-8ac2-c42150ca9b34"
      },
      "execution_count": 19,
      "outputs": [
        {
          "output_type": "stream",
          "name": "stdout",
          "text": [
            "Best neural network in index:  4\n",
            "Model: \"sequential_8\"\n",
            "_________________________________________________________________\n",
            " Layer (type)                Output Shape              Param #   \n",
            "=================================================================\n",
            " conv2d_24 (Conv2D)          (None, 28, 28, 64)        128       \n",
            "                                                                 \n",
            " max_pooling2d_24 (MaxPoolin  (None, 28, 28, 64)       0         \n",
            " g2D)                                                            \n",
            "                                                                 \n",
            " conv2d_25 (Conv2D)          (None, 28, 28, 64)        4160      \n",
            "                                                                 \n",
            " max_pooling2d_25 (MaxPoolin  (None, 28, 28, 64)       0         \n",
            " g2D)                                                            \n",
            "                                                                 \n",
            " conv2d_26 (Conv2D)          (None, 28, 28, 12)        780       \n",
            "                                                                 \n",
            " max_pooling2d_26 (MaxPoolin  (None, 28, 28, 12)       0         \n",
            " g2D)                                                            \n",
            "                                                                 \n",
            " flatten_8 (Flatten)         (None, 9408)              0         \n",
            "                                                                 \n",
            " dense_16 (Dense)            (None, 64)                602176    \n",
            "                                                                 \n",
            " dense_17 (Dense)            (None, 10)                650       \n",
            "                                                                 \n",
            "=================================================================\n",
            "Total params: 607,894\n",
            "Trainable params: 607,894\n",
            "Non-trainable params: 0\n",
            "_________________________________________________________________\n"
          ]
        }
      ]
    },
    {
      "cell_type": "code",
      "source": [
        "predictions = bnn.predict(x_test)\n",
        "# \n",
        "\n",
        "for i, p in enumerate(predictions):\n",
        "  max_pred = list(p).index(max(p))\n",
        "  test_images[i].show()\n",
        "  print(f\"P:{max_pred} - O:{y_test[i]}\")\n",
        "  # limited to print out 10 predictions\n",
        "  # output: P is the predicted by nn, O is the original value before prediction,\n",
        "  # if P == O -> NN works well!\n",
        "  if i == 10:\n",
        "    break\n",
        "  "
      ],
      "metadata": {
        "colab": {
          "base_uri": "https://localhost:8080/",
          "height": 533
        },
        "id": "ZEpAOM88klLe",
        "outputId": "c84599ac-d8b1-4ea0-c91a-3c92dc36bcc9"
      },
      "execution_count": 20,
      "outputs": [
        {
          "output_type": "stream",
          "name": "stdout",
          "text": [
            "313/313 [==============================] - 1s 2ms/step\n"
          ]
        },
        {
          "output_type": "display_data",
          "data": {
            "text/plain": [
              "<PIL.PngImagePlugin.PngImageFile image mode=L size=28x28 at 0x7FD10D42D8A0>"
            ],
            "image/png": "[encoded data removed]"
          },
          "metadata": {}
        },
        {
          "output_type": "stream",
          "name": "stdout",
          "text": [
            "P:7 - O:7\n"
          ]
        },
        {
          "output_type": "display_data",
          "data": {
            "text/plain": [
              "<PIL.PngImagePlugin.PngImageFile image mode=L size=28x28 at 0x7FD10D42D870>"
            ],
            "image/png": "[encoded data removed]"
          },
          "metadata": {}
        },
        {
          "output_type": "stream",
          "name": "stdout",
          "text": [
            "P:2 - O:2\n"
          ]
        },
        {
          "output_type": "display_data",
          "data": {
            "text/plain": [
              "<PIL.PngImagePlugin.PngImageFile image mode=L size=28x28 at 0x7FD10D42D8D0>"
            ],
            "image/png": "[encoded data removed]"
          },
          "metadata": {}
        },
        {
          "output_type": "stream",
          "name": "stdout",
          "text": [
            "P:1 - O:1\n"
          ]
        },
        {
          "output_type": "display_data",
          "data": {
            "text/plain": [
              "<PIL.PngImagePlugin.PngImageFile image mode=L size=28x28 at 0x7FD10D42C070>"
            ],
            "image/png": "[encoded data removed]"
          },
          "metadata": {}
        },
        {
          "output_type": "stream",
          "name": "stdout",
          "text": [
            "P:0 - O:0\n"
          ]
        },
        {
          "output_type": "display_data",
          "data": {
            "text/plain": [
              "<PIL.PngImagePlugin.PngImageFile image mode=L size=28x28 at 0x7FD10D42D990>"
            ],
            "image/png": "[encoded data removed]"
          },
          "metadata": {}
        },
        {
          "output_type": "stream",
          "name": "stdout",
          "text": [
            "P:4 - O:4\n"
          ]
        },
        {
          "output_type": "display_data",
          "data": {
            "text/plain": [
              "<PIL.PngImagePlugin.PngImageFile image mode=L size=28x28 at 0x7FD10D42D960>"
            ],
            "image/png": "[encoded data removed]"
          },
          "metadata": {}
        },
        {
          "output_type": "stream",
          "name": "stdout",
          "text": [
            "P:1 - O:1\n"
          ]
        },
        {
          "output_type": "display_data",
          "data": {
            "text/plain": [
              "<PIL.PngImagePlugin.PngImageFile image mode=L size=28x28 at 0x7FD10D42D9C0>"
            ],
            "image/png": "[encoded data removed]"
          },
          "metadata": {}
        },
        {
          "output_type": "stream",
          "name": "stdout",
          "text": [
            "P:4 - O:4\n"
          ]
        },
        {
          "output_type": "display_data",
          "data": {
            "text/plain": [
              "<PIL.PngImagePlugin.PngImageFile image mode=L size=28x28 at 0x7FD10D42C040>"
            ],
            "image/png": "[encoded data removed]"
          },
          "metadata": {}
        },
        {
          "output_type": "stream",
          "name": "stdout",
          "text": [
            "P:9 - O:9\n"
          ]
        },
        {
          "output_type": "display_data",
          "data": {
            "text/plain": [
              "<PIL.PngImagePlugin.PngImageFile image mode=L size=28x28 at 0x7FD10D42DA20>"
            ],
            "image/png": "[encoded data removed]"
          },
          "metadata": {}
        },
        {
          "output_type": "stream",
          "name": "stdout",
          "text": [
            "P:5 - O:5\n"
          ]
        },
        {
          "output_type": "display_data",
          "data": {
            "text/plain": [
              "<PIL.PngImagePlugin.PngImageFile image mode=L size=28x28 at 0x7FD10D42DA50>"
            ],
            "image/png": "[encoded data removed]"
          },
          "metadata": {}
        },
        {
          "output_type": "stream",
          "name": "stdout",
          "text": [
            "P:9 - O:9\n"
          ]
        },
        {
          "output_type": "display_data",
          "data": {
            "text/plain": [
              "<PIL.PngImagePlugin.PngImageFile image mode=L size=28x28 at 0x7FD10D42DA80>"
            ],
            "image/png": "[encoded data removed]"
          },
          "metadata": {}
        },
        {
          "output_type": "stream",
          "name": "stdout",
          "text": [
            "P:0 - O:0\n"
          ]
        }
      ]
    },
    {
      "cell_type": "code",
      "source": [],
      "metadata": {
        "id": "6a6LuehCp5qZ"
      },
      "execution_count": null,
      "outputs": []
    }
  ]
}